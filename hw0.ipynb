{
  "cells": [
    {
      "cell_type": "markdown",
      "metadata": {
        "id": "_9TXpX_fIcRT"
      },
      "source": [
        "<a href=\"https://colab.research.google.com/github/mottaquikarim/PYTH2/blob/master/src/PSETS/nb/basic_data_inclass_psets.ipynb\" target=\"_parent\"><img src=\"https://colab.research.google.com/assets/colab-badge.svg\" alt=\"Open In Colab\"/></a>"
      ]
    },
    {
      "cell_type": "markdown",
      "metadata": {
        "id": "SYEMPuhCIcRU"
      },
      "source": [
        "#  BASIC DATA TYPES\n",
        "\n",
        "## BASICS\n",
        "\n",
        "### P1.PY\n",
        "\n",
        "\n"
      ]
    },
    {
      "cell_type": "code",
      "execution_count": null,
      "metadata": {
        "id": "Dz7HTH5nIcRV"
      },
      "outputs": [],
      "source": [
        "\"\"\"\n",
        "Placeholders\n",
        "\"\"\"\n",
        "\n",
        "# You're writing a program, and you don't know what your starting value for your 'initial' variable is yet. The program won't run if you leave it blank, but you don't want to forget you need it! Make a workaround.\n",
        "\n",
        "initial_variable = () #I wasn't sure if we should just do () to have nonetype data or if we should have put a placeholder such as initial_variable = \"Placeholder\"\n"
      ]
    },
    {
      "cell_type": "markdown",
      "metadata": {
        "id": "8xMsKeZeIcRV"
      },
      "source": [
        "\n",
        "\n",
        "### P2.PY\n",
        "\n",
        "\n"
      ]
    },
    {
      "cell_type": "code",
      "execution_count": null,
      "metadata": {
        "id": "mlu10XdOIcRV",
        "colab": {
          "base_uri": "https://localhost:8080/"
        },
        "outputId": "e2ca880c-7ee4-4d40-a02e-b257a748f64f"
      },
      "outputs": [
        {
          "output_type": "stream",
          "name": "stdout",
          "text": [
            "80\n"
          ]
        }
      ],
      "source": [
        "\"\"\"\n",
        "Basic Variables\n",
        "\"\"\"\n",
        "\n",
        "# Create a variable that represents your favorite number, and add a note to remind yourself what this variable represents. Now print it out without re-typing the number.\n",
        "\n",
        "fav_num = 80 #This number represents my favorite number!\n",
        "print(fav_num)\n",
        "\n",
        "# Create another variable that represents your favorite color, and do the same steps as above.\n",
        "\n"
      ]
    },
    {
      "cell_type": "markdown",
      "metadata": {
        "id": "m_hGsWFxIcRV"
      },
      "source": [
        "\n",
        "\n",
        "### P3.PY\n",
        "\n",
        "\n"
      ]
    },
    {
      "cell_type": "code",
      "execution_count": null,
      "metadata": {
        "id": "YqPY6gn-IcRW",
        "colab": {
          "base_uri": "https://localhost:8080/"
        },
        "outputId": "f189c022-fc2c-449f-d40c-5f03af6496ea"
      },
      "outputs": [
        {
          "output_type": "stream",
          "name": "stdout",
          "text": [
            "Long hair and longer stride\n",
            "Skateboard affair with a primal tribe\n",
            "In your cut-off painter pants\n",
            "Charging down the craggy mountains with our thrift store friends\n"
          ]
        }
      ],
      "source": [
        "\"\"\"\n",
        "String Formatting\n",
        "\"\"\"\n",
        "\n",
        "# Create a variable that contains the first 4 lines of your favorite song. Add a comment that includes the song title and artist **each on their own line**! Now print out this variable.\n",
        "\n",
        "fav_song_lyrics = \"\"\"Long hair and longer stride\n",
        "Skateboard affair with a primal tribe\n",
        "In your cut-off painter pants\n",
        "Charging down the craggy mountains with our thrift store friends\"\"\"\n",
        "#Song Title: Only The Wild Ones\n",
        "#Artist: DISPATCH\n",
        "\n",
        "print(fav_song_lyrics)\n"
      ]
    },
    {
      "cell_type": "markdown",
      "metadata": {
        "id": "vPbjhMSNIcRW"
      },
      "source": [
        "\n",
        "\n",
        "## TYPECASTING\n",
        "\n",
        "### P1.PY\n",
        "\n",
        "\n"
      ]
    },
    {
      "cell_type": "code",
      "execution_count": null,
      "metadata": {
        "id": "dc5yK1UAIcRW",
        "colab": {
          "base_uri": "https://localhost:8080/"
        },
        "outputId": "a4cdd581-1480-4420-f4c2-afaefcd8df73"
      },
      "outputs": [
        {
          "output_type": "stream",
          "name": "stdout",
          "text": [
            "5.0  -  <class 'float'>\n",
            "0.0  -  <class 'float'>\n",
            "-8.0  -  <class 'float'>\n",
            "-22.0  -  <class 'float'>\n",
            "5  -  <class 'int'>\n",
            "0  -  <class 'int'>\n",
            "-8  -  <class 'int'>\n",
            "-22  -  <class 'int'>\n"
          ]
        }
      ],
      "source": [
        "\"\"\"\n",
        "Typcasting w. Integers & Floats\n",
        "\"\"\"\n",
        "\n",
        "# Convert these numbers into floats and back. Print out each result as well as its data type.\n",
        "\n",
        "five = 5\n",
        "zero = 0\n",
        "neg_8 = -8\n",
        "neg_22 = -22\n",
        "\n",
        "#float conversion\n",
        "float_five = float(five)\n",
        "float_zero = float(zero)\n",
        "float_neg_8 = float(neg_8)\n",
        "float_neg_22 = float(neg_22)\n",
        "\n",
        "#printing float values and types (added dash to make it more readable)\n",
        "print(float_five, \" - \", type(float_five))\n",
        "print(float_zero, \" - \", type(float_zero))\n",
        "print(float_neg_8, \" - \", type(float_neg_8))\n",
        "print(float_neg_22, \" - \", type(float_neg_22))\n",
        "\n",
        "#converting back to integers\n",
        "int_five = int(float_five)\n",
        "int_zero = int(float_zero)\n",
        "int_neg_8 = int(float_neg_8)\n",
        "int_neg_22 = int(float_neg_22)\n",
        "\n",
        "#printing int values and types (added dash to make it more readable)\n",
        "print(int_five, \" - \", type(int_five))\n",
        "print(int_zero, \" - \", type(int_zero))\n",
        "print(int_neg_8, \" - \", type(int_neg_8))\n",
        "print(int_neg_22, \" - \", type(int_neg_22))\n",
        "\n",
        "#I'm sure there is a clever way to automate this somehow..."
      ]
    },
    {
      "cell_type": "markdown",
      "metadata": {
        "id": "UkyfqyWGIcRW"
      },
      "source": [
        "\n",
        "\n",
        "### P2.PY\n",
        "\n",
        "\n"
      ]
    },
    {
      "cell_type": "code",
      "execution_count": null,
      "metadata": {
        "id": "WJ8G6WhwIcRW",
        "colab": {
          "base_uri": "https://localhost:8080/"
        },
        "outputId": "2e1ded91-46d4-491b-a2fb-fa873febf432"
      },
      "outputs": [
        {
          "output_type": "stream",
          "name": "stdout",
          "text": [
            "5  -  <class 'str'>\n",
            "0  -  <class 'str'>\n",
            "-8  -  <class 'str'>\n",
            "True  -  <class 'str'>\n",
            "False  -  <class 'str'>\n",
            "\n",
            "\n",
            "5  -  <class 'int'>\n",
            "0  -  <class 'int'>\n",
            "-8  -  <class 'int'>\n",
            "True  -  <class 'bool'>\n",
            "True  -  <class 'bool'>\n"
          ]
        }
      ],
      "source": [
        "\"\"\"\n",
        "Typcasting w. Strings\n",
        "\"\"\"\n",
        "\n",
        "# Convert these variables into strings and then back to their original data types. Print out each result as well as its data type. What do you notice about the last one?\n",
        "\n",
        "five = 5\n",
        "zero = 0\n",
        "neg_8 = -8\n",
        "T = True\n",
        "F = False\n",
        "\n",
        "#convert to strings\n",
        "str_five = str(five)\n",
        "str_zero = str(zero)\n",
        "str_neg_8= str(neg_8)\n",
        "str_T = str(T)\n",
        "str_F = str(F)\n",
        "\n",
        "#print strings (Added a dash to make it more readable)\n",
        "print(str_five, \" - \", type(str_five))\n",
        "print(str_zero, \" - \", type(str_zero))\n",
        "print(str_neg_8, \" - \", type(str_neg_8))\n",
        "print(str_T, \" - \", type(str_T))\n",
        "print(str_F, \" - \", type(str_F))\n",
        "\n",
        "#convert back to original data types\n",
        "int_five = int(str_five)\n",
        "int_zero = int(str_zero)\n",
        "int_neg_8 = int(str_neg_8)\n",
        "bool_T = bool(str_T)\n",
        "bool_F = bool(str_F)\n",
        "\n",
        "print()\n",
        "print()#Added these blank print statements just to make the output easier\n",
        "\n",
        "#print original data types\n",
        "print(int_five, \" - \", type(int_five))\n",
        "print(int_zero, \" - \", type(int_zero))\n",
        "print(int_neg_8, \" - \", type(int_neg_8))\n",
        "print(bool_T, \" - \", type(bool_T))\n",
        "print(bool_F, \" - \", type(bool_F))\n",
        "\n",
        "#What I noticed when printing out the results is that the bool_F turns into \"True\" even though it was originally \"False\".\n",
        "#Does this have something to do with data being present in the string making it true? Like maybe if the string was empty it would be false?"
      ]
    },
    {
      "cell_type": "markdown",
      "metadata": {
        "id": "FcW9xdGrIcRW"
      },
      "source": [
        "\n",
        "\n",
        "### P3.PY\n",
        "\n",
        "\n"
      ]
    },
    {
      "cell_type": "code",
      "execution_count": null,
      "metadata": {
        "id": "dp_aQIBHIcRW",
        "colab": {
          "base_uri": "https://localhost:8080/"
        },
        "outputId": "58267d71-824e-4019-c1c3-c282c98cea4f"
      },
      "outputs": [
        {
          "output_type": "stream",
          "name": "stdout",
          "text": [
            "True  -  <class 'bool'>\n",
            "False  -  <class 'bool'>\n",
            "\n",
            "1.0  -  <class 'float'>\n",
            "0.0  -  <class 'float'>\n",
            "\n",
            "True  -  <class 'bool'>\n",
            "False  -  <class 'bool'>\n",
            "\n",
            "1  -  <class 'int'>\n",
            "0  -  <class 'int'>\n",
            "\n",
            "True  -  <class 'bool'>\n"
          ]
        }
      ],
      "source": [
        "\"\"\"\n",
        "Booleans I - Typecasting w. Numbers\n",
        "\"\"\"\n",
        "\n",
        "# A) Use typecasting to turn these variables into boolean values. Print the result and the datatype of the result.\n",
        "\n",
        "one = 1\n",
        "zero = 0\n",
        "\n",
        "bool_one = bool(one)\n",
        "bool_zero = bool(zero)\n",
        "\n",
        "print(bool_one, \" - \", type(bool_one))\n",
        "print(bool_zero, \" - \", type(bool_zero))\n",
        "\n",
        "# B) Use typecasting to turn the resultant variables from part A into floats. Print the result and the datatype of the result.\n",
        "float_one = float(bool_one)\n",
        "float_zero = float(bool_zero)\n",
        "\n",
        "print()\n",
        "print(float_one, \" - \", type(float_one))\n",
        "print(float_zero, \" - \", type(float_zero))\n",
        "\n",
        "# C) Use typecasting to turn the resultant variables from part B back into booleans. Print the result and the datatype of the result.\n",
        "\n",
        "new_bool_one = bool(float_one)\n",
        "new_bool_zero = bool(float_zero)\n",
        "\n",
        "print()\n",
        "print(new_bool_one, \" - \", type(new_bool_one))\n",
        "print(new_bool_zero, \" - \", type(new_bool_zero))\n",
        "\n",
        "# C) Use typecasting to turn the resultant variables from part C into integers. Print the result and the datatype of the result.\n",
        "\n",
        "int_one = int(new_bool_one)\n",
        "int_zero = int(new_bool_zero)\n",
        "\n",
        "print()\n",
        "print(int_one, \" - \", type(int_one))\n",
        "print(int_zero, \" - \", type(int_zero))\n",
        "# E) Use typecasting to turn the variable below into a boolean value. Print the result and the datatype of the result.\n",
        "\n",
        "ten = 10\n",
        "\n",
        "bool_ten = bool(ten)\n",
        "\n",
        "print()\n",
        "print(bool_ten, \" - \", type(bool_ten))\n",
        "\n"
      ]
    },
    {
      "cell_type": "markdown",
      "metadata": {
        "id": "QBiLH7BYIcRW"
      },
      "source": [
        "\n",
        "\n",
        "### P4.PY\n",
        "\n",
        "\n"
      ]
    },
    {
      "cell_type": "code",
      "execution_count": null,
      "metadata": {
        "id": "rUovFsihIcRW",
        "colab": {
          "base_uri": "https://localhost:8080/"
        },
        "outputId": "26ace558-fd4d-45f7-f662-750fcce108fb"
      },
      "outputs": [
        {
          "output_type": "stream",
          "name": "stdout",
          "text": [
            "True  -  <class 'bool'>\n",
            "False  -  <class 'bool'>\n",
            "True  -  <class 'bool'>\n",
            "False  -  <class 'bool'>\n",
            "\n",
            "1  -  <class 'int'>\n",
            "0  -  <class 'int'>\n",
            "\n",
            "True  -  <class 'bool'>\n",
            "False  -  <class 'bool'>\n"
          ]
        }
      ],
      "source": [
        "\"\"\"\n",
        "Booleans II - Typecasting w. Strings\n",
        "\"\"\"\n",
        "\n",
        "# A) Use typecasting to turn these variables into boolean values. Print the result and the datatype of the result.\n",
        "\n",
        "one = 1\n",
        "zero = 0\n",
        "bool_true = True\n",
        "bool_false = False\n",
        "\n",
        "bool_one = bool(one)\n",
        "bool_zero = bool(zero)\n",
        "new_bool_true = bool(bool_true)\n",
        "new_bool_false = bool(bool_false)\n",
        "\n",
        "print(bool_one, \" - \", type(bool_one))\n",
        "print(bool_zero, \" - \", type(bool_zero))\n",
        "print(new_bool_true, \" - \", type(new_bool_true))\n",
        "print(new_bool_false, \" - \", type(new_bool_false))\n",
        "\n",
        "# B) Use typecasting to turn the latest values for variables 'one' and 'zero' back into integers. Print the result and the datatype of the result.\n",
        "\n",
        "int_one = int(bool_one)\n",
        "int_zero = int(bool_zero)\n",
        "\n",
        "print()\n",
        "print(int_one, \" - \", type(int_one))\n",
        "print(int_zero, \" - \", type(int_zero))\n",
        "\n",
        "# C) Use typecasting to turn the latest values for variables 'bool_true' and 'bool_false' back into boolean values. Print the result and the datatype of the result.\n",
        "\n",
        "bool_true_3 = bool(new_bool_true)\n",
        "bool_false_3 = bool(new_bool_false)\n",
        "\n",
        "print()\n",
        "print(bool_true_3, \" - \", type(bool_true_3))\n",
        "print(bool_false_3, \" - \", type(bool_false_3))\n",
        "\n",
        "\n"
      ]
    },
    {
      "cell_type": "markdown",
      "metadata": {
        "id": "aBma3C3ZIcRX"
      },
      "source": [
        "\n",
        "\n",
        "## OPERATORS\n",
        "\n",
        "### P1.PY\n",
        "\n",
        "\n"
      ]
    },
    {
      "cell_type": "code",
      "execution_count": null,
      "metadata": {
        "id": "p5PJ2Sn3IcRX",
        "colab": {
          "base_uri": "https://localhost:8080/"
        },
        "outputId": "20f72a1c-00ce-48db-bc25-6b86a5b70a1c"
      },
      "outputs": [
        {
          "output_type": "stream",
          "name": "stdout",
          "text": [
            "100\n",
            "150\n",
            "60\n",
            "600\n",
            "4.0\n",
            "1.0\n"
          ]
        }
      ],
      "source": [
        "\"\"\"\n",
        "Integer & Float Operators\n",
        "\"\"\"\n",
        "\n",
        "# Complete the specified math operations. Do the next operation on the result from the previous operation.\n",
        "\n",
        "orig_var = 100\n",
        "print(orig_var)\n",
        "\n",
        "# Add 50\n",
        "\n",
        "add_50 = orig_var + 50\n",
        "print(add_50)\n",
        "\n",
        "# Subtract 90\n",
        "\n",
        "sub_90 = add_50 - 90 #Silly but when it says \"subtract a number\" I always forget which order the subtracted number should go. I put it after the new variable to get positive integers.\n",
        "print(sub_90)\n",
        "\n",
        "# Multiply 10\n",
        "\n",
        "mult_10 = sub_90 * 10\n",
        "print(mult_10)\n",
        "\n",
        "# Divide 150\n",
        "\n",
        "div_150 = mult_10 / 150\n",
        "print(div_150)\n",
        "\n",
        "# Modulus 3\n",
        "\n",
        "modulus_3 = div_150 % 3\n",
        "print(modulus_3)\n"
      ]
    },
    {
      "cell_type": "markdown",
      "metadata": {
        "id": "tvESfxpvIcRX"
      },
      "source": [
        "\n",
        "\n",
        "### P2.PY\n",
        "\n",
        "\n"
      ]
    },
    {
      "cell_type": "code",
      "execution_count": null,
      "metadata": {
        "id": "ba6ckr7PIcRX",
        "colab": {
          "base_uri": "https://localhost:8080/"
        },
        "outputId": "398c16a5-e517-41de-dc10-a5536a7b8247"
      },
      "outputs": [
        {
          "output_type": "stream",
          "name": "stdout",
          "text": [
            "I'm almost done my homework and after that I will need to cook dinner\n"
          ]
        }
      ],
      "source": [
        "\"\"\"\n",
        "String Operators\n",
        "\"\"\"\n",
        "\n",
        "# Create two variables, each of which is half of a compound sentence. Do NOT add any punctuation up front. Add the two variables together, and print the result.\n",
        "## Example compound sentence: \"I'll go to the beach today, and I'll go snorkeling.\"\n",
        "\n",
        "first_half = \"I'm almost done my homework\"\n",
        "second_half = \"and after that I will need to cook dinner\"\n",
        "\n",
        "full_sentance = first_half + \" \" + second_half\n",
        "\n",
        "print(full_sentance)"
      ]
    },
    {
      "cell_type": "markdown",
      "metadata": {
        "id": "TwtswyMOIcRX"
      },
      "source": [
        "\n",
        "\n",
        "### P3.PY\n",
        "\n",
        "\n"
      ]
    },
    {
      "cell_type": "code",
      "execution_count": null,
      "metadata": {
        "id": "kyXDMlMIIcRX",
        "colab": {
          "base_uri": "https://localhost:8080/",
          "height": 233
        },
        "outputId": "251ff894-53a5-4bfc-b1d7-4c6f9176cfce"
      },
      "outputs": [
        {
          "output_type": "stream",
          "name": "stdout",
          "text": [
            "2\n",
            "02\n"
          ]
        },
        {
          "output_type": "error",
          "ename": "TypeError",
          "evalue": "can only concatenate str (not \"int\") to str",
          "traceback": [
            "\u001b[0;31m---------------------------------------------------------------------------\u001b[0m",
            "\u001b[0;31mTypeError\u001b[0m                                 Traceback (most recent call last)",
            "\u001b[0;32m<ipython-input-14-c78f79ba9654>\u001b[0m in \u001b[0;36m<cell line: 27>\u001b[0;34m()\u001b[0m\n\u001b[1;32m     25\u001b[0m \u001b[0mf\u001b[0m \u001b[0;34m=\u001b[0m \u001b[0;36m2\u001b[0m\u001b[0;34m\u001b[0m\u001b[0;34m\u001b[0m\u001b[0m\n\u001b[1;32m     26\u001b[0m \u001b[0;34m\u001b[0m\u001b[0m\n\u001b[0;32m---> 27\u001b[0;31m \u001b[0mproblem_C\u001b[0m \u001b[0;34m=\u001b[0m \u001b[0me\u001b[0m \u001b[0;34m+\u001b[0m \u001b[0mf\u001b[0m\u001b[0;34m\u001b[0m\u001b[0;34m\u001b[0m\u001b[0m\n\u001b[0m\u001b[1;32m     28\u001b[0m \u001b[0mprint\u001b[0m\u001b[0;34m(\u001b[0m\u001b[0mproblem_C\u001b[0m\u001b[0;34m)\u001b[0m\u001b[0;34m\u001b[0m\u001b[0;34m\u001b[0m\u001b[0m\n",
            "\u001b[0;31mTypeError\u001b[0m: can only concatenate str (not \"int\") to str"
          ]
        }
      ],
      "source": [
        "\"\"\"\n",
        "Addition I - Numbers & Strings\n",
        "\"\"\"\n",
        "\n",
        "# Add the below sets of variables together.\n",
        "\n",
        "# A)\n",
        "a = 0\n",
        "b = 2\n",
        "\n",
        "problem_A = a + b\n",
        "print(problem_A)\n",
        "\n",
        "\n",
        "# B)\n",
        "c = '0'\n",
        "d = '2'\n",
        "\n",
        "problem_B = c + d\n",
        "print(problem_B)\n",
        "\n",
        "\n",
        "# C)\n",
        "e = \"0\"\n",
        "f = 2\n",
        "\n",
        "problem_C = e + f #This gets a TypeError because it adds a string with an integer\n",
        "print(problem_C)\n"
      ]
    },
    {
      "cell_type": "markdown",
      "metadata": {
        "id": "emFpLcQIIcRX"
      },
      "source": [
        "\n",
        "\n",
        "### P4.PY\n",
        "\n",
        "\n"
      ]
    },
    {
      "cell_type": "code",
      "execution_count": null,
      "metadata": {
        "id": "E2KCjtg0IcRX",
        "colab": {
          "base_uri": "https://localhost:8080/"
        },
        "outputId": "0f4bad4a-5cd7-480e-e054-e04ea0bba8d4"
      },
      "outputs": [
        {
          "output_type": "stream",
          "name": "stdout",
          "text": [
            "2\n",
            "0\n",
            "1\n"
          ]
        }
      ],
      "source": [
        "\"\"\"\n",
        "Addition II - Booleans\n",
        "\"\"\"\n",
        "\n",
        "# Add the below sets of variables together.\n",
        "\n",
        "# A)\n",
        "a = True\n",
        "b = True\n",
        "\n",
        "question_1 = a + b\n",
        "print(question_1)\n",
        "\n",
        "\n",
        "# B)\n",
        "c = False\n",
        "d = False\n",
        "\n",
        "question_2 = c + d\n",
        "print(question_2)\n",
        "\n",
        "\n",
        "\n",
        "# C)\n",
        "e = True\n",
        "f = False\n",
        "\n",
        "question_3 = e + f\n",
        "print(question_3)"
      ]
    }
  ],
  "metadata": {
    "colab": {
      "provenance": [],
      "collapsed_sections": [
        "8xMsKeZeIcRV"
      ]
    },
    "language_info": {
      "name": "python"
    },
    "kernelspec": {
      "name": "python3",
      "display_name": "Python 3"
    }
  },
  "nbformat": 4,
  "nbformat_minor": 0
}